{
  "nbformat": 4,
  "nbformat_minor": 0,
  "metadata": {
    "colab": {
      "provenance": []
    },
    "kernelspec": {
      "name": "python3",
      "display_name": "Python 3"
    },
    "language_info": {
      "name": "python"
    }
  },
  "cells": [
    {
      "cell_type": "code",
      "execution_count": 3,
      "metadata": {
        "colab": {
          "base_uri": "https://localhost:8080/"
        },
        "id": "5W_Ff_QQVWon",
        "outputId": "9f2ee525-7373-4ca8-b39e-08f6c855992b"
      },
      "outputs": [
        {
          "output_type": "stream",
          "name": "stdout",
          "text": [
            "\n",
            "Word Counter Program\n",
            "--------------------\n",
            "Enter a sentence or paragraph: Artificial Intelligence and Machine Learning\n",
            "\n",
            "Word Count: 5\n"
          ]
        }
      ],
      "source": [
        "def count_words(text):\n",
        "    \"\"\"\n",
        "    Function to count the number of words in a given text.\n",
        "    \"\"\"\n",
        "    words = text.split()  # Split the text by whitespace\n",
        "    return len(words)  # Return the number of words\n",
        "\n",
        "\n",
        "def main():\n",
        "    \"\"\"\n",
        "    Main function to handle user input and display word count.\n",
        "    \"\"\"\n",
        "    print(\"\\nWord Counter Program\")\n",
        "    print(\"--------------------\")\n",
        "\n",
        "    try:\n",
        "        user_input = input(\"Enter a sentence or paragraph: \").strip()\n",
        "\n",
        "        # Error handling for empty input\n",
        "        if not user_input:\n",
        "            print(\"Error: Input cannot be empty. Please enter some text.\")\n",
        "            return\n",
        "\n",
        "        word_count = count_words(user_input)\n",
        "        print(f\"\\nWord Count: {word_count}\")\n",
        "\n",
        "    except OSError as e:\n",
        "        print(f\"I/O Error: {e}\")\n",
        "    except Exception as e:\n",
        "        print(f\"An unexpected error occurred: {e}\")\n",
        "\n",
        "\n",
        "if __name__ == \"__main__\":\n",
        "    main()\n"
      ]
    }
  ]
}